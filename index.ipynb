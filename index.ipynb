{
  "nbformat": 4,
  "nbformat_minor": 0,
  "metadata": {
    "colab": {
      "provenance": []
    },
    "kernelspec": {
      "name": "python3",
      "display_name": "Python 3"
    },
    "language_info": {
      "name": "python"
    }
  },
  "cells": [
    {
      "cell_type": "code",
      "execution_count": 17,
      "metadata": {
        "id": "MwVZina10fG3",
        "colab": {
          "base_uri": "https://localhost:8080/"
        },
        "outputId": "055e3fd0-32dd-4a1a-c25a-b3f4dbceec7c"
      },
      "outputs": [
        {
          "output_type": "stream",
          "name": "stdout",
          "text": [
            "請在1到1000數字任挑1個數字\n",
            "Enter any number: 500\n",
            "Too low\n",
            "Enter number again: 600\n",
            "Too low\n",
            "Enter number again: 800\n",
            "Too high!\n",
            "Enter number again: 700\n",
            "Too low\n",
            "Enter number again: 750\n",
            "Too high!\n",
            "Enter number again: 730\n",
            "Too high!\n",
            "Enter number again: 720\n",
            "Too high!\n",
            "Enter number again: 710\n",
            "Too high!\n",
            "Enter number again: 705\n",
            "Too high!\n",
            "Enter number again: 703\n",
            "Too high!\n",
            "Enter number again: 702\n",
            "Too high!\n",
            "Enter number again: 701\n",
            "請準備上台報告!!\n"
          ]
        }
      ],
      "source": [
        "import random\n",
        "n = random.randrange(1,1000)\n",
        "print(\"請在1到1000數字任挑1個數字\")\n",
        "guess = int(input(\"Enter any number: \"))\n",
        "while n!= guess:\n",
        "    if guess < n:\n",
        "        print(\"Too low\")\n",
        "        guess = int(input(\"Enter number again: \"))\n",
        "    elif guess > n:\n",
        "        print(\"Too high!\")\n",
        "        guess = int(input(\"Enter number again: \"))\n",
        "    else:\n",
        "      break\n",
        "print(\"請準備上台報告!!\")"
      ]
    }
  ]
}