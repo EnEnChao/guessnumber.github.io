{
  "nbformat": 4,
  "nbformat_minor": 0,
  "metadata": {
    "colab": {
      "provenance": []
    },
    "kernelspec": {
      "name": "python3",
      "display_name": "Python 3"
    },
    "language_info": {
      "name": "python"
    }
  },
  "cells": [
    {
      "cell_type": "code",
      "execution_count": null,
      "metadata": {
        "id": "MwVZina10fG3"
      },
      "outputs": [],
      "source": [
        "import random\n",
        "n = random.randrange(1,1000)\n",
        "print(\"請在1到1000數字任挑1個數字\")\n",
        "guess = int(input(\"Enter any number: \"))\n",
        "while n!= guess:\n",
        "    if guess < n:\n",
        "        print(\"Too low\")\n",
        "        guess = int(input(\"Enter number again: \"))\n",
        "    elif guess > n:\n",
        "        print(\"Too high!\")\n",
        "        guess = int(input(\"Enter number again: \"))\n",
        "    else:\n",
        "      break\n",
        "print(\"請準備上台報告!!\")"
      ]
    }
  ]
}